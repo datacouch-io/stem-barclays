{
	"metadata": {
		"kernelspec": {
			"name": "glue_pyspark",
			"display_name": "Glue PySpark",
			"language": "python"
		},
		"language_info": {
			"name": "Python_Glue_Session",
			"mimetype": "text/x-python",
			"codemirror_mode": {
				"name": "python",
				"version": 3
			},
			"pygments_lexer": "python3",
			"file_extension": ".py"
		}
	},
	"nbformat_minor": 4,
	"nbformat": 4,
	"cells": [
		{
			"cell_type": "markdown",
			"source": "# AWS Glue Studio Notebook\n##### You are now running a AWS Glue Studio notebook; To start using your notebook you need to start an AWS Glue Interactive Session.\n",
			"metadata": {
				"editable": true,
				"trusted": true
			}
		},
		{
			"cell_type": "markdown",
			"source": "#### Optional: Run this cell to see available notebook commands (\"magics\").\n",
			"metadata": {
				"editable": true,
				"trusted": true
			}
		},
		{
			"cell_type": "code",
			"source": "%help",
			"metadata": {
				"trusted": true,
				"editable": true
			},
			"execution_count": null,
			"outputs": []
		},
		{
			"cell_type": "markdown",
			"source": "####  Run this cell to set up and start your interactive session.\n",
			"metadata": {
				"editable": true,
				"trusted": true
			}
		},
		{
			"cell_type": "code",
			"source": "%idle_timeout 2880\n%glue_version 4.0\n%worker_type G.1X\n%number_of_workers 5\n\nimport sys\nfrom awsglue.transforms import *\nfrom awsglue.utils import getResolvedOptions\nfrom pyspark.context import SparkContext\nfrom awsglue.context import GlueContext\nfrom awsglue.job import Job\n  \nsc = SparkContext.getOrCreate()\nglueContext = GlueContext(sc)\nspark = glueContext.spark_session\njob = Job(glueContext)",
			"metadata": {
				"trusted": true,
				"editable": true
			},
			"execution_count": 4,
			"outputs": [
				{
					"name": "stderr",
					"text": "You are already connected to a glueetl session 0a320293-350a-4235-b465-a720b0f3556a.\n\nNo change will be made to the current session that is set as glueetl. The session configuration change will apply to newly created sessions.\n",
					"output_type": "stream"
				},
				{
					"name": "stdout",
					"text": "Current idle_timeout is 2880 minutes.\nidle_timeout has been set to 2880 minutes.\n",
					"output_type": "stream"
				},
				{
					"name": "stderr",
					"text": "You are already connected to a glueetl session 0a320293-350a-4235-b465-a720b0f3556a.\n\nNo change will be made to the current session that is set as glueetl. The session configuration change will apply to newly created sessions.\n",
					"output_type": "stream"
				},
				{
					"name": "stdout",
					"text": "Setting Glue version to: 4.0\n",
					"output_type": "stream"
				},
				{
					"name": "stderr",
					"text": "You are already connected to a glueetl session 0a320293-350a-4235-b465-a720b0f3556a.\n\nNo change will be made to the current session that is set as glueetl. The session configuration change will apply to newly created sessions.\n",
					"output_type": "stream"
				},
				{
					"name": "stdout",
					"text": "Previous worker type: G.1X\nSetting new worker type to: G.1X\n",
					"output_type": "stream"
				},
				{
					"name": "stderr",
					"text": "You are already connected to a glueetl session 0a320293-350a-4235-b465-a720b0f3556a.\n\nNo change will be made to the current session that is set as glueetl. The session configuration change will apply to newly created sessions.\n",
					"output_type": "stream"
				},
				{
					"name": "stdout",
					"text": "Previous number of workers: 5\nSetting new number of workers to: 5\n\n",
					"output_type": "stream"
				}
			]
		},
		{
			"cell_type": "markdown",
			"source": "#### Example: Create a DynamicFrame from a table in the AWS Glue Data Catalog and display its schema\n",
			"metadata": {
				"editable": true,
				"trusted": true
			}
		},
		{
			"cell_type": "code",
			"source": "# Define the input file path and delimiter\ninput_file_path = 's3://awstrainingjune01/Input_Data/csv/customers-100.csv'\ndelimiter = ','\n\n# Read the CSV file\ndatasource0 = glueContext.create_dynamic_frame.from_options(\n    connection_type = \"s3\",\n    connection_options = {\"paths\": [input_file_path], \"recurse\": True},\n    format = \"csv\",\n    format_options = {\n        \"withHeader\": True,\n        \"separator\": delimiter\n    }\n)\n\ndatasource0.printSchema();",
			"metadata": {
				"trusted": true,
				"tags": []
			},
			"execution_count": 12,
			"outputs": [
				{
					"name": "stdout",
					"text": "root\n|-- Index: string\n|-- Customer Id: string\n|-- First Name: string\n|-- Last Name: string\n|-- Company: string\n|-- City: string\n|-- Country: string\n|-- Phone 1: string\n|-- Phone 2: string\n|-- Email: string\n|-- Subscription Date: string\n|-- Website: string\n",
					"output_type": "stream"
				}
			]
		},
		{
			"cell_type": "markdown",
			"source": "#### Example: Convert the DynamicFrame to a Spark DataFrame and display a sample of the data\n",
			"metadata": {
				"editable": true,
				"trusted": true
			}
		},
		{
			"cell_type": "code",
			"source": "df = datasource0.toDF()\ndf.show()",
			"metadata": {
				"trusted": true,
				"tags": []
			},
			"execution_count": 13,
			"outputs": [
				{
					"name": "stdout",
					"text": "+-----+---------------+----------+---------+--------------------+-----------------+--------------------+--------------------+--------------------+--------------------+-----------------+--------------------+\n|Index|    Customer Id|First Name|Last Name|             Company|             City|             Country|             Phone 1|             Phone 2|               Email|Subscription Date|             Website|\n+-----+---------------+----------+---------+--------------------+-----------------+--------------------+--------------------+--------------------+--------------------+-----------------+--------------------+\n|    1|DD37Cf93aecA6Dc|    Sheryl|   Baxter|     Rasmussen Group|     East Leonard|               Chile|        229.077.5154|    397.884.0519x718|zunigavanessa@smi...|       2020-08-24|http://www.stephe...|\n|    2|1Ef7b82A4CAAD10|   Preston|   Lozano|         Vega-Gentry|East Jimmychester|            Djibouti|          5153435776|    686-620-1820x944|     vmata@colon.com|       2021-04-23|http://www.hobbs....|\n|    3|6F94879bDAfE5a6|       Roy|    Berry|       Murillo-Perry|    Isabelborough| Antigua and Barbuda|     +1-539-402-0259| (496)978-3969x58947| beckycarr@hogan.com|       2020-03-25|http://www.lawren...|\n|    4|5Cef8BFA16c5e3c|     Linda|    Olsen|Dominguez, Mcmill...|       Bensonview|  Dominican Republic|001-808-617-6467x...|     +1-813-324-8756|stanleyblackwell@...|       2020-06-02|http://www.good-l...|\n|    5|053d585Ab6b3159|    Joanna|   Bender|Martin, Lang and ...|   West Priscilla|Slovakia (Slovak ...|001-234-203-0635x...|001-199-446-3860x...|colinalvarado@mil...|       2021-04-17|https://goodwin-i...|\n|    6|2d08FB17EE273F4|     Aimee|    Downs|        Steele Group|    Chavezborough|Bosnia and Herzeg...| (283)437-3886x88321|        999-728-1637| louis27@gilbert.com|       2020-02-25|http://www.berger...|\n|    7|EA4d384DfDbBf77|    Darren|     Peck|Lester, Woodard a...|         Lake Ana|    Pitcairn Islands|  (496)452-6181x3291|+1-247-266-0963x4995| tgates@cantrell.com|       2021-08-24| https://www.le.com/|\n|    8|0e04AFde9f225dE|     Brett|   Mullen|Sanford, Davenpor...|          Kimport|            Bulgaria|001-583-352-7197x297|    001-333-145-0369|     asnow@colon.com|       2021-04-12|https://hammond-r...|\n|    9|C2dE4dEEc489ae0|    Sheryl|   Meyers|      Browning-Simon|     Robersonstad|              Cyprus|   854-138-4911x5772| +1-448-910-2276x729|mariokhan@ryan-po...|       2020-01-13|https://www.bullo...|\n|   10|8C2811a503C7c5a|  Michelle|Gallagher|        Beck-Hendrix|       Elaineberg|         Timor-Leste|    739.218.2516x459|001-054-401-0347x617|   mdyer@escobar.net|       2021-11-08|  https://arias.com/|\n|   11|216E205d6eBb815|      Carl|Schroeder|Oconnell, Meza an...|     Shannonville|            Guernsey|    637-854-0256x825|    114.336.0784x788|  kirksalas@webb.com|       2021-10-20|https://simmons-h...|\n|   12|CEDec94deE6d69B|     Jenna|   Dodson|Hoffman, Reed and...|      East Andrea|             Vietnam|       (041)737-3846|+1-556-888-3485x4...|  mark42@robbins.com|       2020-11-29|http://www.dougla...|\n|   13|e35426EbDEceaFF|    Tracey|     Mata|      Graham-Francis|South Joannamouth|                Togo|    001-949-844-8787|       (855)713-8773|    alex56@walls.org|       2021-12-02|http://www.beck.com/|\n|   14|A08A8aF8BE9FaD4|  Kristine|      Cox|      Carpenter-Cook|         Jodyberg|           Sri Lanka|  786-284-3358x62152|+1-315-627-1796x8074|holdenmiranda@cla...|       2021-02-08|https://www.brand...|\n|   15|6fEaA1b7cab7B6C|     Faith|     Lutz|      Carter-Hancock|        Burchbury|           Singapore|  (781)861-7180x8306|        207-185-3665|cassieparrish@ble...|       2022-01-26|http://stevenson....|\n|   16|8cad0b4CBceaeec|   Miranda|  Beasley|  Singleton and Sons|     Desireeshire|                Oman|    540.085.3135x185|+1-600-462-6432x2...|vduncan@parks-har...|       2022-04-12|  http://acosta.org/|\n|   17|a5DC21AE3a21eaA|  Caroline|    Foley|     Winters-Mendoza|West Adriennestad|      Western Sahara|   936.222.4746x9924|001-469-948-6341x359|holtgwendolyn@wat...|       2021-03-10|http://www.benson...|\n|   18|F8Aa9d6DfcBeeF8|      Greg|     Mata|       Valentine LLC|      Lake Leslie|          Mozambique|       (701)087-2415| (195)156-1861x26241|jaredjuarez@carro...|       2022-03-26|http://pitts-cher...|\n|   19|F160f5Db3EfE973|  Clifford| Jacobson|           Simon LLC|       Harmonview|South Georgia and...|001-151-330-3524x...|       (748)477-7174|joseph26@jacobson...|       2020-09-24|https://mcconnell...|\n|   20|0F60FF3DdCd7aB0|    Joanna|     Kirk|      Mays-Mccormick|       Jamesshire|    French Polynesia|   (266)131-7001x711| (283)312-5579x11543|tuckerangie@salaz...|       2021-09-24|https://www.camac...|\n+-----+---------------+----------+---------+--------------------+-----------------+--------------------+--------------------+--------------------+--------------------+-----------------+--------------------+\nonly showing top 20 rows\n\n/opt/amazon/spark/python/lib/pyspark.zip/pyspark/sql/dataframe.py:127: UserWarning: DataFrame constructor is internal. Do not directly use it.\n",
					"output_type": "stream"
				}
			]
		},
		{
			"cell_type": "code",
			"source": "dyf = glueContext.create_dynamic_frame.from_catalog(database='db_aws_training_exercises', table_name='cst_tbl_customer_master')\ndyf.printSchema()",
			"metadata": {
				"trusted": true,
				"tags": []
			},
			"execution_count": 15,
			"outputs": [
				{
					"name": "stdout",
					"text": "root\n|-- index: long\n|-- customerid: long\n|-- first name: string\n|-- last name: string\n|-- company: string\n|-- city: string\n|-- country: string\n|-- phone 1: string\n|-- phone 2: string\n|-- email: string\n|-- subscription date: string\n|-- website: string\n",
					"output_type": "stream"
				}
			]
		},
		{
			"cell_type": "markdown",
			"source": "#### Example: Write the data in the DynamicFrame to a location in Amazon S3 and a table for it in the AWS Glue Data Catalog",
			"metadata": {
				"editable": true,
				"trusted": true
			}
		},
		{
			"cell_type": "code",
			"source": "record_count = dyf.count()\nprint(f\"Total records: {record_count}\")",
			"metadata": {
				"trusted": true,
				"tags": []
			},
			"execution_count": 26,
			"outputs": [
				{
					"name": "stdout",
					"text": "Total records: 100\n",
					"output_type": "stream"
				}
			]
		},
		{
			"cell_type": "code",
			"source": "s3output = glueContext.getSink(\n  path=\"s3://bucket_name/folder_name\",\n  connection_type=\"s3\",\n  updateBehavior=\"UPDATE_IN_DATABASE\",\n  partitionKeys=[],\n  compression=\"snappy\",\n  enableUpdateCatalog=True, \n  transformation_ctx=\"s3output\",\n)\ns3output.setCatalogInfo(\n  catalogDatabase=\"demo\", catalogTableName=\"populations\"\n)\ns3output.setFormat(\"glueparquet\")\ns3output.writeFrame(dyf)",
			"metadata": {
				"trusted": true,
				"editable": true
			},
			"execution_count": null,
			"outputs": []
		},
		{
			"cell_type": "code",
			"source": "s3output = glueContext.getSink(\n  path=\"s3://awstrainingjune01/Output_Data/Notebook_Output/\",\n  connection_type=\"s3\",\n  updateBehavior=\"UPDATE_IN_DATABASE\",\n  partitionKeys=[],\n  compression=\"snappy\",\n  enableUpdateCatalog=True, \n  transformation_ctx=\"s3output\",\n)\ns3output.setCatalogInfo(\n  catalogDatabase=\"db_aws_training_exercises\", catalogTableName=\"trg_customers\"\n)\ns3output.setFormat(\"csv\")\ns3output.writeFrame(dyf)",
			"metadata": {
				"trusted": true,
				"editable": true
			},
			"execution_count": 27,
			"outputs": [
				{
					"name": "stdout",
					"text": "<awsglue.dynamicframe.DynamicFrame object at 0x7f65594fd420>\n",
					"output_type": "stream"
				}
			]
		},
		{
			"cell_type": "code",
			"source": "",
			"metadata": {},
			"execution_count": null,
			"outputs": []
		}
	]
}