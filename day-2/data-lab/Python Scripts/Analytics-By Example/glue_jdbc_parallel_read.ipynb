{
 "cells": [
  {
   "cell_type": "code",
   "execution_count": null,
   "id": "cab52480",
   "metadata": {},
   "outputs": [],
   "source": [
    "import sys\n",
    "from awsglue.transforms import *\n",
    "from awsglue.utils import getResolvedOptions\n",
    "from pyspark.context import SparkContext\n",
    "from awsglue.context import GlueContext\n",
    "from awsglue.job import Job\n",
    "import time\n",
    "\n",
    "glueContext = GlueContext(SparkContext.getOrCreate())"
   ]
  },
  {
   "cell_type": "code",
   "execution_count": null,
   "id": "e6dbff06",
   "metadata": {},
   "outputs": [],
   "source": [
    "fooddf = glueContext.create_dynamic_frame.from_catalog(\n",
    "    database=\"dojodb\",\n",
    "    table_name=\"postgres_public_fooddemand\",\n",
    ")"
   ]
  },
  {
   "cell_type": "code",
   "execution_count": null,
   "id": "4553f0b0",
   "metadata": {},
   "outputs": [],
   "source": [
    "fooddf1 = glueContext.create_dynamic_frame.from_catalog(\n",
    "    database=\"dojodb\",\n",
    "    table_name=\"postgres_public_fooddemand\",\n",
    "    additional_options = {\n",
    "            'hashfield': 'week',\n",
    "            'hashpartitions': '5'\n",
    "    }\n",
    ")"
   ]
  },
  {
   "cell_type": "code",
   "execution_count": null,
   "id": "2befc711",
   "metadata": {},
   "outputs": [],
   "source": [
    "fooddf.count()"
   ]
  },
  {
   "cell_type": "code",
   "execution_count": null,
   "id": "e56c2a1d",
   "metadata": {},
   "outputs": [],
   "source": [
    "fooddf1.count()"
   ]
  },
  {
   "cell_type": "code",
   "execution_count": null,
   "id": "7e0f0072",
   "metadata": {},
   "outputs": [],
   "source": [
    "import boto3\n",
    "import json\n",
    "\n",
    "secret_name = \"<SCRETS_ARN>\"\n",
    "region_name = \"<REGION>\"\n",
    "session = boto3.session.Session()\n",
    "client = session.client(service_name='secretsmanager',region_name=region_name)\n",
    "\n",
    "response = client.get_secret_value(SecretId=secret_name)\n",
    "\n",
    "secrets = json.loads(response[\"SecretString\"])\n",
    "\n",
    "uname = secrets[\"username\"]\n",
    "pwd = secrets[\"password\"]\n",
    "host = secrets[\"host\"]\n",
    "\n",
    "print(host)"
   ]
  },
  {
   "cell_type": "code",
   "execution_count": null,
   "id": "b46a7981",
   "metadata": {},
   "outputs": [],
   "source": [
    "glueContext.write_dynamic_frame.from_options(\n",
    "    frame=fooddf,\n",
    "    connection_type=\"redshift\",\n",
    "    connection_options = {\n",
    "        \"user\" : uname,\n",
    "        \"password\" : pwd,\n",
    "        \"url\" : \"jdbc:redshift://\" + host + \":5439/dev\",\n",
    "        \"dbtable\" : \"public.fooddemand\",\n",
    "        \"redshiftTmpDir\": \"s3://dojo-dataset/temp/\",\n",
    "        \"bulkSize\" : \"2\"} \n",
    ")"
   ]
  },
  {
   "cell_type": "code",
   "execution_count": null,
   "id": "6c1d14d6",
   "metadata": {},
   "outputs": [],
   "source": []
  }
 ],
 "metadata": {
  "kernelspec": {
   "display_name": "Sparkmagic (PySpark)",
   "language": "python",
   "name": "pysparkkernel"
  },
  "language_info": {
   "codemirror_mode": {
    "name": "python",
    "version": 3
   },
   "file_extension": ".py",
   "mimetype": "text/x-python",
   "name": "pyspark",
   "pygments_lexer": "python3"
  }
 },
 "nbformat": 4,
 "nbformat_minor": 5
}
