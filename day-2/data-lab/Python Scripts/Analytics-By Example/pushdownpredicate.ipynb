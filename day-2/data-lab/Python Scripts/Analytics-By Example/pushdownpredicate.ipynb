{
 "cells": [
  {
   "cell_type": "code",
   "execution_count": null,
   "id": "193bdd80",
   "metadata": {},
   "outputs": [],
   "source": [
    "import sys\n",
    "from awsglue.transforms import *\n",
    "from awsglue.utils import getResolvedOptions\n",
    "from pyspark.context import SparkContext\n",
    "from awsglue.context import GlueContext\n",
    "\n",
    "glueContext = GlueContext(SparkContext.getOrCreate())"
   ]
  },
  {
   "cell_type": "code",
   "execution_count": null,
   "id": "aeca8840",
   "metadata": {},
   "outputs": [],
   "source": [
    "customersdf = glueContext.create_dynamic_frame.from_catalog(\n",
    "             database=\"dojodb\",\n",
    "             table_name=\"customers\")"
   ]
  },
  {
   "cell_type": "code",
   "execution_count": null,
   "id": "c33b8765",
   "metadata": {},
   "outputs": [],
   "source": [
    "customersdf.count()"
   ]
  },
  {
   "cell_type": "code",
   "execution_count": null,
   "id": "a79bd4e2",
   "metadata": {},
   "outputs": [],
   "source": [
    "customersdf = Filter.apply(customersdf, f = lambda x: x[\"spending\"] ==  \"High\")"
   ]
  },
  {
   "cell_type": "code",
   "execution_count": null,
   "id": "3e7ee8b8",
   "metadata": {},
   "outputs": [],
   "source": [
    "customersdf.count()"
   ]
  },
  {
   "cell_type": "code",
   "execution_count": null,
   "id": "ded55412",
   "metadata": {},
   "outputs": [],
   "source": [
    "customersdf1 = glueContext.create_dynamic_frame.from_catalog(\n",
    "             database=\"dojodb\",\n",
    "             table_name=\"customers\",\n",
    "             push_down_predicate = \"(spending == 'High')\")"
   ]
  },
  {
   "cell_type": "code",
   "execution_count": null,
   "id": "746ad0b9",
   "metadata": {},
   "outputs": [],
   "source": [
    "customersdf1.count()"
   ]
  },
  {
   "cell_type": "code",
   "execution_count": null,
   "id": "0fc7c91d",
   "metadata": {},
   "outputs": [],
   "source": [
    "customersdf1 = glueContext.create_dynamic_frame.from_catalog(\n",
    "             database=\"dojodb\",\n",
    "             table_name=\"customers\",\n",
    "             push_down_predicate = \"(spending == 'High' and profession == 'Engineer')\")"
   ]
  },
  {
   "cell_type": "code",
   "execution_count": null,
   "id": "87d698da",
   "metadata": {},
   "outputs": [],
   "source": [
    "customersdf1.count()"
   ]
  },
  {
   "cell_type": "code",
   "execution_count": null,
   "id": "9dfd1dab",
   "metadata": {},
   "outputs": [],
   "source": []
  }
 ],
 "metadata": {
  "kernelspec": {
   "display_name": "Sparkmagic (PySpark)",
   "language": "python",
   "name": "pysparkkernel"
  },
  "language_info": {
   "codemirror_mode": {
    "name": "python",
    "version": 3
   },
   "file_extension": ".py",
   "mimetype": "text/x-python",
   "name": "pyspark",
   "pygments_lexer": "python3"
  }
 },
 "nbformat": 4,
 "nbformat_minor": 5
}
